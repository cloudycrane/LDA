{
 "cells": [
  {
   "cell_type": "code",
   "execution_count": 1,
   "metadata": {},
   "outputs": [],
   "source": [
    "text = \"The sequel, Yes, Prime Minister, ran from 1986 to 1988. In total there were 38 episodes, of which all but one lasted half an hour. Almost all episodes ended with a variation of the title of the series spoken as the answer to a question posed by the same character, Jim Hacker. Several episodes were adapted for BBC Radio, and a stage play was produced in 2010, the latter leading to a new television series on UKTV Gold in 2013.\"\n"
   ]
  },
  {
   "cell_type": "code",
   "execution_count": 5,
   "metadata": {},
   "outputs": [],
   "source": [
    "import spacy\n",
    "nlp = spacy.load('en')\n"
   ]
  },
  {
   "cell_type": "code",
   "execution_count": 6,
   "metadata": {},
   "outputs": [],
   "source": [
    "doc = nlp(text)"
   ]
  },
  {
   "cell_type": "code",
   "execution_count": 9,
   "metadata": {},
   "outputs": [
    {
     "name": "stdout",
     "output_type": "stream",
     "text": [
      "\"The\"\n",
      "\"sequel\"\n",
      "\",\"\n",
      "\"Yes\"\n",
      "\",\"\n",
      "\"Prime\"\n",
      "\"Minister\"\n",
      "\",\"\n",
      "\"ran\"\n",
      "\"from\"\n",
      "\"1986\"\n",
      "\"to\"\n",
      "\"1988\"\n",
      "\".\"\n",
      "\"In\"\n",
      "\"total\"\n",
      "\"there\"\n",
      "\"were\"\n",
      "\"38\"\n",
      "\"episodes\"\n",
      "\",\"\n",
      "\"of\"\n",
      "\"which\"\n",
      "\"all\"\n",
      "\"but\"\n",
      "\"one\"\n",
      "\"lasted\"\n",
      "\"half\"\n",
      "\"an\"\n",
      "\"hour\"\n",
      "\".\"\n",
      "\"Almost\"\n",
      "\"all\"\n",
      "\"episodes\"\n",
      "\"ended\"\n",
      "\"with\"\n",
      "\"a\"\n",
      "\"variation\"\n",
      "\"of\"\n",
      "\"the\"\n",
      "\"title\"\n",
      "\"of\"\n",
      "\"the\"\n",
      "\"series\"\n",
      "\"spoken\"\n",
      "\"as\"\n",
      "\"the\"\n",
      "\"answer\"\n",
      "\"to\"\n",
      "\"a\"\n",
      "\"question\"\n",
      "\"posed\"\n",
      "\"by\"\n",
      "\"the\"\n",
      "\"same\"\n",
      "\"character\"\n",
      "\",\"\n",
      "\"Jim\"\n",
      "\"Hacker\"\n",
      "\".\"\n",
      "\"Several\"\n",
      "\"episodes\"\n",
      "\"were\"\n",
      "\"adapted\"\n",
      "\"for\"\n",
      "\"BBC\"\n",
      "\"Radio\"\n",
      "\",\"\n",
      "\"and\"\n",
      "\"a\"\n",
      "\"stage\"\n",
      "\"play\"\n",
      "\"was\"\n",
      "\"produced\"\n",
      "\"in\"\n",
      "\"2010\"\n",
      "\",\"\n",
      "\"the\"\n",
      "\"latter\"\n",
      "\"leading\"\n",
      "\"to\"\n",
      "\"a\"\n",
      "\"new\"\n",
      "\"television\"\n",
      "\"series\"\n",
      "\"on\"\n",
      "\"UKTV\"\n",
      "\"Gold\"\n",
      "\"in\"\n",
      "\"2013\"\n",
      "\".\"\n"
     ]
    }
   ],
   "source": [
    "for token in doc:\n",
    "    print('\"' + token.text + '\"')\n"
   ]
  },
  {
   "cell_type": "code",
   "execution_count": null,
   "metadata": {},
   "outputs": [],
   "source": []
  },
  {
   "cell_type": "code",
   "execution_count": 10,
   "metadata": {},
   "outputs": [
    {
     "name": "stdout",
     "output_type": "stream",
     "text": [
      "The\t0\tthe\tFalse\tFalse\tXxx\tDET\tDT\n",
      "sequel\t4\tsequel\tFalse\tFalse\txxxx\tNOUN\tNN\n",
      ",\t10\t,\tTrue\tFalse\t,\tPUNCT\t,\n",
      "Yes\t12\tyes\tFalse\tFalse\tXxx\tINTJ\tUH\n",
      ",\t15\t,\tTrue\tFalse\t,\tPUNCT\t,\n",
      "Prime\t17\tprime\tFalse\tFalse\tXxxxx\tPROPN\tNNP\n",
      "Minister\t23\tminister\tFalse\tFalse\tXxxxx\tPROPN\tNNP\n",
      ",\t31\t,\tTrue\tFalse\t,\tPUNCT\t,\n",
      "ran\t33\trun\tFalse\tFalse\txxx\tVERB\tVBD\n",
      "from\t37\tfrom\tFalse\tFalse\txxxx\tADP\tIN\n"
     ]
    }
   ],
   "source": [
    "for token in doc[:10]:\n",
    "    print(\"{0}\\t{1}\\t{2}\\t{3}\\t{4}\\t{5}\\t{6}\\t{7}\".format(\n",
    "        token.text,\n",
    "        token.idx,\n",
    "        token.lemma_,\n",
    "        token.is_punct,\n",
    "        token.is_space,\n",
    "        token.shape_,\n",
    "        token.pos_,\n",
    "        token.tag_\n",
    "    ))"
   ]
  },
  {
   "cell_type": "code",
   "execution_count": 11,
   "metadata": {},
   "outputs": [
    {
     "name": "stdout",
     "output_type": "stream",
     "text": [
      "1986 to 1988 DATE\n",
      "38 CARDINAL\n",
      "one CARDINAL\n",
      "half an hour TIME\n",
      "Jim Hacker PERSON\n",
      "BBC Radio ORG\n",
      "2010 DATE\n",
      "UKTV Gold ORG\n",
      "2013 DATE\n"
     ]
    }
   ],
   "source": [
    "for ent in doc.ents:\n",
    "    print(ent.text, ent.label_)"
   ]
  },
  {
   "cell_type": "code",
   "execution_count": 12,
   "metadata": {},
   "outputs": [
    {
     "data": {
      "text/html": [
       "<div class=\"entities\" style=\"line-height: 2.5\">The sequel, Yes, Prime Minister, ran from \n",
       "<mark class=\"entity\" style=\"background: #bfe1d9; padding: 0.45em 0.6em; margin: 0 0.25em; line-height: 1; border-radius: 0.35em; box-decoration-break: clone; -webkit-box-decoration-break: clone\">\n",
       "    1986 to 1988\n",
       "    <span style=\"font-size: 0.8em; font-weight: bold; line-height: 1; border-radius: 0.35em; text-transform: uppercase; vertical-align: middle; margin-left: 0.5rem\">DATE</span>\n",
       "</mark>\n",
       ". In total there were \n",
       "<mark class=\"entity\" style=\"background: #e4e7d2; padding: 0.45em 0.6em; margin: 0 0.25em; line-height: 1; border-radius: 0.35em; box-decoration-break: clone; -webkit-box-decoration-break: clone\">\n",
       "    38\n",
       "    <span style=\"font-size: 0.8em; font-weight: bold; line-height: 1; border-radius: 0.35em; text-transform: uppercase; vertical-align: middle; margin-left: 0.5rem\">CARDINAL</span>\n",
       "</mark>\n",
       " episodes, of which all but \n",
       "<mark class=\"entity\" style=\"background: #e4e7d2; padding: 0.45em 0.6em; margin: 0 0.25em; line-height: 1; border-radius: 0.35em; box-decoration-break: clone; -webkit-box-decoration-break: clone\">\n",
       "    one\n",
       "    <span style=\"font-size: 0.8em; font-weight: bold; line-height: 1; border-radius: 0.35em; text-transform: uppercase; vertical-align: middle; margin-left: 0.5rem\">CARDINAL</span>\n",
       "</mark>\n",
       " lasted \n",
       "<mark class=\"entity\" style=\"background: #bfe1d9; padding: 0.45em 0.6em; margin: 0 0.25em; line-height: 1; border-radius: 0.35em; box-decoration-break: clone; -webkit-box-decoration-break: clone\">\n",
       "    half an hour\n",
       "    <span style=\"font-size: 0.8em; font-weight: bold; line-height: 1; border-radius: 0.35em; text-transform: uppercase; vertical-align: middle; margin-left: 0.5rem\">TIME</span>\n",
       "</mark>\n",
       ". Almost all episodes ended with a variation of the title of the series spoken as the answer to a question posed by the same character, \n",
       "<mark class=\"entity\" style=\"background: #aa9cfc; padding: 0.45em 0.6em; margin: 0 0.25em; line-height: 1; border-radius: 0.35em; box-decoration-break: clone; -webkit-box-decoration-break: clone\">\n",
       "    Jim Hacker\n",
       "    <span style=\"font-size: 0.8em; font-weight: bold; line-height: 1; border-radius: 0.35em; text-transform: uppercase; vertical-align: middle; margin-left: 0.5rem\">PERSON</span>\n",
       "</mark>\n",
       ". Several episodes were adapted for \n",
       "<mark class=\"entity\" style=\"background: #7aecec; padding: 0.45em 0.6em; margin: 0 0.25em; line-height: 1; border-radius: 0.35em; box-decoration-break: clone; -webkit-box-decoration-break: clone\">\n",
       "    BBC Radio\n",
       "    <span style=\"font-size: 0.8em; font-weight: bold; line-height: 1; border-radius: 0.35em; text-transform: uppercase; vertical-align: middle; margin-left: 0.5rem\">ORG</span>\n",
       "</mark>\n",
       ", and a stage play was produced in \n",
       "<mark class=\"entity\" style=\"background: #bfe1d9; padding: 0.45em 0.6em; margin: 0 0.25em; line-height: 1; border-radius: 0.35em; box-decoration-break: clone; -webkit-box-decoration-break: clone\">\n",
       "    2010\n",
       "    <span style=\"font-size: 0.8em; font-weight: bold; line-height: 1; border-radius: 0.35em; text-transform: uppercase; vertical-align: middle; margin-left: 0.5rem\">DATE</span>\n",
       "</mark>\n",
       ", the latter leading to a new television series on \n",
       "<mark class=\"entity\" style=\"background: #7aecec; padding: 0.45em 0.6em; margin: 0 0.25em; line-height: 1; border-radius: 0.35em; box-decoration-break: clone; -webkit-box-decoration-break: clone\">\n",
       "    UKTV Gold\n",
       "    <span style=\"font-size: 0.8em; font-weight: bold; line-height: 1; border-radius: 0.35em; text-transform: uppercase; vertical-align: middle; margin-left: 0.5rem\">ORG</span>\n",
       "</mark>\n",
       " in \n",
       "<mark class=\"entity\" style=\"background: #bfe1d9; padding: 0.45em 0.6em; margin: 0 0.25em; line-height: 1; border-radius: 0.35em; box-decoration-break: clone; -webkit-box-decoration-break: clone\">\n",
       "    2013\n",
       "    <span style=\"font-size: 0.8em; font-weight: bold; line-height: 1; border-radius: 0.35em; text-transform: uppercase; vertical-align: middle; margin-left: 0.5rem\">DATE</span>\n",
       "</mark>\n",
       ".</div>"
      ],
      "text/plain": [
       "<IPython.core.display.HTML object>"
      ]
     },
     "metadata": {},
     "output_type": "display_data"
    }
   ],
   "source": [
    "from spacy import displacy\n",
    "displacy.render(doc, style='ent', jupyter=True)"
   ]
  },
  {
   "cell_type": "code",
   "execution_count": 13,
   "metadata": {},
   "outputs": [
    {
     "name": "stdout",
     "output_type": "stream",
     "text": [
      "The sequel, Yes, Prime Minister, ran from 1986 to 1988.\n",
      "In total there were 38 episodes, of which all but one lasted half an hour.\n",
      "Almost all episodes ended with a variation of the title of the series spoken as the answer to a question posed by the same character, Jim Hacker.\n",
      "Several episodes were adapted for BBC Radio, and a stage play was produced in 2010, the latter leading to a new television series on UKTV Gold in 2013.\n"
     ]
    }
   ],
   "source": [
    "for sent in doc.sents:\n",
    "    print(sent)"
   ]
  },
  {
   "cell_type": "code",
   "execution_count": 14,
   "metadata": {},
   "outputs": [],
   "source": [
    "newdoc = nlp(list(doc.sents)[0].text)"
   ]
  },
  {
   "cell_type": "code",
   "execution_count": 15,
   "metadata": {},
   "outputs": [
    {
     "name": "stdout",
     "output_type": "stream",
     "text": [
      "The/DT <--det-- sequel/NN\n",
      "sequel/NN <--nsubj-- ran/VBD\n",
      ",/, <--punct-- sequel/NN\n",
      "Yes/UH <--intj-- sequel/NN\n",
      ",/, <--punct-- sequel/NN\n",
      "Prime/NNP <--compound-- Minister/NNP\n",
      "Minister/NNP <--appos-- sequel/NN\n",
      ",/, <--punct-- sequel/NN\n",
      "ran/VBD <--ROOT-- ran/VBD\n",
      "from/IN <--prep-- ran/VBD\n",
      "1986/CD <--pobj-- from/IN\n",
      "to/IN <--prep-- from/IN\n",
      "1988/CD <--pobj-- to/IN\n",
      "./. <--punct-- ran/VBD\n"
     ]
    }
   ],
   "source": [
    "for token in newdoc:\n",
    "    print(\"{0}/{1} <--{2}-- {3}/{4}\".format(\n",
    "        token.text, token.tag_, token.dep_, token.head.text, token.head.tag_))"
   ]
  },
  {
   "cell_type": "code",
   "execution_count": 16,
   "metadata": {},
   "outputs": [
    {
     "ename": "TypeError",
     "evalue": "__init__() got an unexpected keyword argument 'encoding'",
     "output_type": "error",
     "traceback": [
      "\u001b[0;31m---------------------------------------------------------------------------\u001b[0m",
      "\u001b[0;31mTypeError\u001b[0m                                 Traceback (most recent call last)",
      "\u001b[0;32m<ipython-input-16-2ab13af302b0>\u001b[0m in \u001b[0;36m<module>\u001b[0;34m\u001b[0m\n\u001b[0;32m----> 1\u001b[0;31m \u001b[0mdisplacy\u001b[0m\u001b[0;34m.\u001b[0m\u001b[0mrender\u001b[0m\u001b[0;34m(\u001b[0m\u001b[0mnewdoc\u001b[0m\u001b[0;34m,\u001b[0m \u001b[0mstyle\u001b[0m\u001b[0;34m=\u001b[0m\u001b[0;34m'dep'\u001b[0m\u001b[0;34m,\u001b[0m \u001b[0mjupyter\u001b[0m\u001b[0;34m=\u001b[0m\u001b[0;32mTrue\u001b[0m\u001b[0;34m,\u001b[0m \u001b[0moptions\u001b[0m\u001b[0;34m=\u001b[0m\u001b[0;34m{\u001b[0m\u001b[0;34m'distance'\u001b[0m\u001b[0;34m:\u001b[0m \u001b[0;36m90\u001b[0m\u001b[0;34m}\u001b[0m\u001b[0;34m)\u001b[0m\u001b[0;34m\u001b[0m\u001b[0;34m\u001b[0m\u001b[0m\n\u001b[0m",
      "\u001b[0;32m/usr/share/anaconda/3/envs/LDA/lib/python3.7/site-packages/spacy/displacy/__init__.py\u001b[0m in \u001b[0;36mrender\u001b[0;34m(docs, style, page, minify, jupyter, options, manual)\u001b[0m\n\u001b[1;32m     37\u001b[0m     \u001b[0mrenderer\u001b[0m\u001b[0;34m,\u001b[0m \u001b[0mconverter\u001b[0m \u001b[0;34m=\u001b[0m \u001b[0mfactories\u001b[0m\u001b[0;34m[\u001b[0m\u001b[0mstyle\u001b[0m\u001b[0;34m]\u001b[0m\u001b[0;34m\u001b[0m\u001b[0;34m\u001b[0m\u001b[0m\n\u001b[1;32m     38\u001b[0m     \u001b[0mrenderer\u001b[0m \u001b[0;34m=\u001b[0m \u001b[0mrenderer\u001b[0m\u001b[0;34m(\u001b[0m\u001b[0moptions\u001b[0m\u001b[0;34m=\u001b[0m\u001b[0moptions\u001b[0m\u001b[0;34m)\u001b[0m\u001b[0;34m\u001b[0m\u001b[0;34m\u001b[0m\u001b[0m\n\u001b[0;32m---> 39\u001b[0;31m     \u001b[0mparsed\u001b[0m \u001b[0;34m=\u001b[0m \u001b[0;34m[\u001b[0m\u001b[0mconverter\u001b[0m\u001b[0;34m(\u001b[0m\u001b[0mdoc\u001b[0m\u001b[0;34m,\u001b[0m \u001b[0moptions\u001b[0m\u001b[0;34m)\u001b[0m \u001b[0;32mfor\u001b[0m \u001b[0mdoc\u001b[0m \u001b[0;32min\u001b[0m \u001b[0mdocs\u001b[0m\u001b[0;34m]\u001b[0m \u001b[0;32mif\u001b[0m \u001b[0;32mnot\u001b[0m \u001b[0mmanual\u001b[0m \u001b[0;32melse\u001b[0m \u001b[0mdocs\u001b[0m\u001b[0;34m\u001b[0m\u001b[0;34m\u001b[0m\u001b[0m\n\u001b[0m\u001b[1;32m     40\u001b[0m     \u001b[0m_html\u001b[0m\u001b[0;34m[\u001b[0m\u001b[0;34m'parsed'\u001b[0m\u001b[0;34m]\u001b[0m \u001b[0;34m=\u001b[0m \u001b[0mrenderer\u001b[0m\u001b[0;34m.\u001b[0m\u001b[0mrender\u001b[0m\u001b[0;34m(\u001b[0m\u001b[0mparsed\u001b[0m\u001b[0;34m,\u001b[0m \u001b[0mpage\u001b[0m\u001b[0;34m=\u001b[0m\u001b[0mpage\u001b[0m\u001b[0;34m,\u001b[0m \u001b[0mminify\u001b[0m\u001b[0;34m=\u001b[0m\u001b[0mminify\u001b[0m\u001b[0;34m)\u001b[0m\u001b[0;34m.\u001b[0m\u001b[0mstrip\u001b[0m\u001b[0;34m(\u001b[0m\u001b[0;34m)\u001b[0m\u001b[0;34m\u001b[0m\u001b[0;34m\u001b[0m\u001b[0m\n\u001b[1;32m     41\u001b[0m     \u001b[0mhtml\u001b[0m \u001b[0;34m=\u001b[0m \u001b[0m_html\u001b[0m\u001b[0;34m[\u001b[0m\u001b[0;34m'parsed'\u001b[0m\u001b[0;34m]\u001b[0m\u001b[0;34m\u001b[0m\u001b[0;34m\u001b[0m\u001b[0m\n",
      "\u001b[0;32m/usr/share/anaconda/3/envs/LDA/lib/python3.7/site-packages/spacy/displacy/__init__.py\u001b[0m in \u001b[0;36m<listcomp>\u001b[0;34m(.0)\u001b[0m\n\u001b[1;32m     37\u001b[0m     \u001b[0mrenderer\u001b[0m\u001b[0;34m,\u001b[0m \u001b[0mconverter\u001b[0m \u001b[0;34m=\u001b[0m \u001b[0mfactories\u001b[0m\u001b[0;34m[\u001b[0m\u001b[0mstyle\u001b[0m\u001b[0;34m]\u001b[0m\u001b[0;34m\u001b[0m\u001b[0;34m\u001b[0m\u001b[0m\n\u001b[1;32m     38\u001b[0m     \u001b[0mrenderer\u001b[0m \u001b[0;34m=\u001b[0m \u001b[0mrenderer\u001b[0m\u001b[0;34m(\u001b[0m\u001b[0moptions\u001b[0m\u001b[0;34m=\u001b[0m\u001b[0moptions\u001b[0m\u001b[0;34m)\u001b[0m\u001b[0;34m\u001b[0m\u001b[0;34m\u001b[0m\u001b[0m\n\u001b[0;32m---> 39\u001b[0;31m     \u001b[0mparsed\u001b[0m \u001b[0;34m=\u001b[0m \u001b[0;34m[\u001b[0m\u001b[0mconverter\u001b[0m\u001b[0;34m(\u001b[0m\u001b[0mdoc\u001b[0m\u001b[0;34m,\u001b[0m \u001b[0moptions\u001b[0m\u001b[0;34m)\u001b[0m \u001b[0;32mfor\u001b[0m \u001b[0mdoc\u001b[0m \u001b[0;32min\u001b[0m \u001b[0mdocs\u001b[0m\u001b[0;34m]\u001b[0m \u001b[0;32mif\u001b[0m \u001b[0;32mnot\u001b[0m \u001b[0mmanual\u001b[0m \u001b[0;32melse\u001b[0m \u001b[0mdocs\u001b[0m\u001b[0;34m\u001b[0m\u001b[0;34m\u001b[0m\u001b[0m\n\u001b[0m\u001b[1;32m     40\u001b[0m     \u001b[0m_html\u001b[0m\u001b[0;34m[\u001b[0m\u001b[0;34m'parsed'\u001b[0m\u001b[0;34m]\u001b[0m \u001b[0;34m=\u001b[0m \u001b[0mrenderer\u001b[0m\u001b[0;34m.\u001b[0m\u001b[0mrender\u001b[0m\u001b[0;34m(\u001b[0m\u001b[0mparsed\u001b[0m\u001b[0;34m,\u001b[0m \u001b[0mpage\u001b[0m\u001b[0;34m=\u001b[0m\u001b[0mpage\u001b[0m\u001b[0;34m,\u001b[0m \u001b[0mminify\u001b[0m\u001b[0;34m=\u001b[0m\u001b[0mminify\u001b[0m\u001b[0;34m)\u001b[0m\u001b[0;34m.\u001b[0m\u001b[0mstrip\u001b[0m\u001b[0;34m(\u001b[0m\u001b[0;34m)\u001b[0m\u001b[0;34m\u001b[0m\u001b[0;34m\u001b[0m\u001b[0m\n\u001b[1;32m     41\u001b[0m     \u001b[0mhtml\u001b[0m \u001b[0;34m=\u001b[0m \u001b[0m_html\u001b[0m\u001b[0;34m[\u001b[0m\u001b[0;34m'parsed'\u001b[0m\u001b[0;34m]\u001b[0m\u001b[0;34m\u001b[0m\u001b[0;34m\u001b[0m\u001b[0m\n",
      "\u001b[0;32m/usr/share/anaconda/3/envs/LDA/lib/python3.7/site-packages/spacy/displacy/__init__.py\u001b[0m in \u001b[0;36mparse_deps\u001b[0;34m(orig_doc, options)\u001b[0m\n\u001b[1;32m     87\u001b[0m     \u001b[0mRETURNS\u001b[0m \u001b[0;34m(\u001b[0m\u001b[0mdict\u001b[0m\u001b[0;34m)\u001b[0m\u001b[0;34m:\u001b[0m \u001b[0mGenerated\u001b[0m \u001b[0mdependency\u001b[0m \u001b[0mparse\u001b[0m \u001b[0mkeyed\u001b[0m \u001b[0mby\u001b[0m \u001b[0mwords\u001b[0m \u001b[0;32mand\u001b[0m \u001b[0marcs\u001b[0m\u001b[0;34m.\u001b[0m\u001b[0;34m\u001b[0m\u001b[0;34m\u001b[0m\u001b[0m\n\u001b[1;32m     88\u001b[0m     \"\"\"\n\u001b[0;32m---> 89\u001b[0;31m     \u001b[0mdoc\u001b[0m \u001b[0;34m=\u001b[0m \u001b[0mDoc\u001b[0m\u001b[0;34m(\u001b[0m\u001b[0morig_doc\u001b[0m\u001b[0;34m.\u001b[0m\u001b[0mvocab\u001b[0m\u001b[0;34m)\u001b[0m\u001b[0;34m.\u001b[0m\u001b[0mfrom_bytes\u001b[0m\u001b[0;34m(\u001b[0m\u001b[0morig_doc\u001b[0m\u001b[0;34m.\u001b[0m\u001b[0mto_bytes\u001b[0m\u001b[0;34m(\u001b[0m\u001b[0;34m)\u001b[0m\u001b[0;34m)\u001b[0m\u001b[0;34m\u001b[0m\u001b[0;34m\u001b[0m\u001b[0m\n\u001b[0m\u001b[1;32m     90\u001b[0m     \u001b[0;32mif\u001b[0m \u001b[0;32mnot\u001b[0m \u001b[0mdoc\u001b[0m\u001b[0;34m.\u001b[0m\u001b[0mis_parsed\u001b[0m\u001b[0;34m:\u001b[0m\u001b[0;34m\u001b[0m\u001b[0;34m\u001b[0m\u001b[0m\n\u001b[1;32m     91\u001b[0m         \u001b[0muser_warning\u001b[0m\u001b[0;34m(\u001b[0m\u001b[0mWarnings\u001b[0m\u001b[0;34m.\u001b[0m\u001b[0mW005\u001b[0m\u001b[0;34m)\u001b[0m\u001b[0;34m\u001b[0m\u001b[0;34m\u001b[0m\u001b[0m\n",
      "\u001b[0;32mdoc.pyx\u001b[0m in \u001b[0;36mspacy.tokens.doc.Doc.to_bytes\u001b[0;34m()\u001b[0m\n",
      "\u001b[0;32m/usr/share/anaconda/3/envs/LDA/lib/python3.7/site-packages/spacy/util.py\u001b[0m in \u001b[0;36mto_bytes\u001b[0;34m(getters, exclude)\u001b[0m\n\u001b[1;32m    484\u001b[0m         \u001b[0;32mif\u001b[0m \u001b[0mkey\u001b[0m \u001b[0;32mnot\u001b[0m \u001b[0;32min\u001b[0m \u001b[0mexclude\u001b[0m\u001b[0;34m:\u001b[0m\u001b[0;34m\u001b[0m\u001b[0;34m\u001b[0m\u001b[0m\n\u001b[1;32m    485\u001b[0m             \u001b[0mserialized\u001b[0m\u001b[0;34m[\u001b[0m\u001b[0mkey\u001b[0m\u001b[0;34m]\u001b[0m \u001b[0;34m=\u001b[0m \u001b[0mgetter\u001b[0m\u001b[0;34m(\u001b[0m\u001b[0;34m)\u001b[0m\u001b[0;34m\u001b[0m\u001b[0;34m\u001b[0m\u001b[0m\n\u001b[0;32m--> 486\u001b[0;31m     \u001b[0;32mreturn\u001b[0m \u001b[0mmsgpack\u001b[0m\u001b[0;34m.\u001b[0m\u001b[0mdumps\u001b[0m\u001b[0;34m(\u001b[0m\u001b[0mserialized\u001b[0m\u001b[0;34m,\u001b[0m \u001b[0muse_bin_type\u001b[0m\u001b[0;34m=\u001b[0m\u001b[0;32mTrue\u001b[0m\u001b[0;34m,\u001b[0m \u001b[0mencoding\u001b[0m\u001b[0;34m=\u001b[0m\u001b[0;34m'utf8'\u001b[0m\u001b[0;34m)\u001b[0m\u001b[0;34m\u001b[0m\u001b[0;34m\u001b[0m\u001b[0m\n\u001b[0m\u001b[1;32m    487\u001b[0m \u001b[0;34m\u001b[0m\u001b[0m\n\u001b[1;32m    488\u001b[0m \u001b[0;34m\u001b[0m\u001b[0m\n",
      "\u001b[0;32m/usr/share/anaconda/3/envs/LDA/lib/python3.7/site-packages/msgpack_numpy.py\u001b[0m in \u001b[0;36mpackb\u001b[0;34m(o, **kwargs)\u001b[0m\n\u001b[1;32m    178\u001b[0m     \"\"\"\n\u001b[1;32m    179\u001b[0m \u001b[0;34m\u001b[0m\u001b[0m\n\u001b[0;32m--> 180\u001b[0;31m     \u001b[0;32mreturn\u001b[0m \u001b[0mPacker\u001b[0m\u001b[0;34m(\u001b[0m\u001b[0;34m**\u001b[0m\u001b[0mkwargs\u001b[0m\u001b[0;34m)\u001b[0m\u001b[0;34m.\u001b[0m\u001b[0mpack\u001b[0m\u001b[0;34m(\u001b[0m\u001b[0mo\u001b[0m\u001b[0;34m)\u001b[0m\u001b[0;34m\u001b[0m\u001b[0;34m\u001b[0m\u001b[0m\n\u001b[0m\u001b[1;32m    181\u001b[0m \u001b[0;34m\u001b[0m\u001b[0m\n\u001b[1;32m    182\u001b[0m \u001b[0;32mdef\u001b[0m \u001b[0munpack\u001b[0m\u001b[0;34m(\u001b[0m\u001b[0mstream\u001b[0m\u001b[0;34m,\u001b[0m \u001b[0;34m**\u001b[0m\u001b[0mkwargs\u001b[0m\u001b[0;34m)\u001b[0m\u001b[0;34m:\u001b[0m\u001b[0;34m\u001b[0m\u001b[0;34m\u001b[0m\u001b[0m\n",
      "\u001b[0;31mTypeError\u001b[0m: __init__() got an unexpected keyword argument 'encoding'"
     ]
    }
   ],
   "source": [
    "displacy.render(newdoc, style='dep', jupyter=True, options={'distance': 90})"
   ]
  },
  {
   "cell_type": "code",
   "execution_count": 18,
   "metadata": {},
   "outputs": [],
   "source": [
    "nlp = spacy.load('en_core_web_lg')"
   ]
  },
  {
   "cell_type": "code",
   "execution_count": 19,
   "metadata": {},
   "outputs": [
    {
     "name": "stdout",
     "output_type": "stream",
     "text": [
      "[-3.2239e-01  3.8982e-01  6.4522e-01  8.7596e-02  4.0262e-01 -4.1253e-01\n",
      "  1.3804e-01 -4.0226e-01 -3.0679e-01  3.6520e+00 -6.1745e-01 -2.4114e-01\n",
      "  1.7488e-01 -2.5995e-01 -3.8512e-01 -1.3747e-01 -3.7446e-01 -8.0867e-01\n",
      "  2.8081e-01  2.9735e-01  1.7901e-01 -3.4726e-02  7.2466e-02 -5.2111e-01\n",
      "  7.1858e-02  1.5913e-01 -6.0877e-01  1.6604e-01 -9.3809e-02  2.0030e-01\n",
      " -5.0653e-01 -1.4978e-01  1.7742e-01  3.2996e-02 -2.1082e-01 -6.0442e-02\n",
      " -9.6639e-02 -4.6054e-01 -7.1622e-02 -1.4829e-01  5.1362e-01 -3.7840e-01\n",
      " -3.2035e-01 -1.1593e-01 -1.5887e-01  2.5999e-01  2.6821e-01  2.7429e-01\n",
      " -5.8973e-02 -1.0218e-01  6.6629e-03  3.5737e-01  3.1083e-01  4.7950e-01\n",
      "  4.4323e-01  8.0089e-03  6.4577e-02 -4.1851e-01  3.2589e-01 -6.0894e-01\n",
      " -3.5944e-01  1.9116e-01  1.5910e-02 -1.8912e-01  1.2646e-01 -9.6918e-03\n",
      " -6.5529e-01 -4.1851e-01  4.0244e-01 -6.7241e-01 -7.6219e-01  2.6207e-01\n",
      " -1.5607e+00  3.2982e-01 -4.1586e-01  3.4098e-01 -1.2571e-01 -1.2014e-01\n",
      "  1.3608e-02 -1.7894e-01  5.0916e-01 -2.8449e-01 -1.9519e-01  1.7161e-01\n",
      " -1.8038e-01 -3.7242e-01  2.8779e-01 -9.9446e-01  3.8110e-01 -3.6687e-01\n",
      "  6.7859e-01  4.1517e-01  1.4029e-04 -9.2324e-02  1.4499e-01 -6.3138e-01\n",
      "  8.5580e-02  9.8767e-02 -4.2732e-02 -5.1192e-01 -3.6008e-01  1.7807e-01\n",
      "  4.3106e-01 -2.7113e-01  2.6117e-01 -1.1093e+00 -5.3453e-02  1.2964e-01\n",
      "  7.2043e-02 -2.9840e-01 -3.0373e-01  1.2479e-01 -6.2262e-01  3.1790e-01\n",
      " -5.0850e-02 -3.4046e-01 -7.0588e-01  7.3111e-02 -9.7412e-02  1.5489e-01\n",
      " -1.7524e-01 -9.3642e-02 -4.5105e-01  3.4972e-01  2.2643e-01  3.3525e-01\n",
      "  2.0722e-01 -5.2710e-01 -3.6449e-01  6.1503e-02 -2.8858e-01  2.8356e-01\n",
      "  1.2859e-01 -3.3722e-01  9.9695e-02  5.4493e-01  3.4306e-01  6.4749e-01\n",
      " -1.3339e-01 -3.0286e-01 -7.0783e-02  1.6607e-01 -5.3108e-01 -1.1629e-01\n",
      "  1.8794e-01  8.7658e-02  8.2277e-02 -5.9183e-01 -1.3002e+00 -3.1180e-01\n",
      " -4.5598e-02  2.9376e-01 -1.9878e-01 -4.1425e-01  3.5388e-01  2.6559e-01\n",
      "  3.2310e-01  1.6575e-01  1.7211e-01  1.8798e-01  2.0010e-01 -1.7585e-01\n",
      " -1.4383e-01  4.6441e-01 -3.5426e-01  3.5655e-02  2.1650e-01 -6.9591e-01\n",
      " -1.9097e-03  3.5148e-01 -4.4031e-01  2.5784e-02 -1.6795e-01  6.7284e-01\n",
      "  9.0581e-02 -1.8994e-01  5.4949e-01  1.4926e-01  7.2222e-01 -3.3370e-01\n",
      " -5.1958e-01  3.2437e-01  1.9644e-01 -1.5863e-01  1.9083e-03  5.1186e-01\n",
      " -9.5662e-02  2.1656e-02 -1.3161e-01 -1.1805e-01  1.6575e-01  2.9505e-01\n",
      "  4.9018e-01 -4.2977e-01 -1.5993e-01 -3.6753e-01  8.7457e-02 -6.8308e-02\n",
      " -1.5331e-01 -2.7103e-01 -5.4915e-01  9.1917e-01  4.2635e-01 -5.2601e-01\n",
      "  8.4366e-01  5.7226e-02  1.9534e-01 -3.8182e-01 -9.0527e-02  4.5610e-02\n",
      " -9.6872e-03 -6.0501e-01 -2.8681e-01  2.8389e-01  6.2697e-01 -1.0516e-01\n",
      " -4.8453e-01 -3.2606e-01 -5.7180e-01  4.4597e-01 -7.7640e-02  3.0929e-01\n",
      "  1.2633e-01  1.1981e+00  6.9421e-01  3.7257e-01 -4.8151e-02  8.7035e-02\n",
      " -5.7236e-01  4.3714e-01  6.7161e-02  4.1036e-01 -2.5125e-01 -6.1381e-01\n",
      "  9.6459e-03 -5.2952e-01 -2.5677e-01  2.1411e-01 -2.6532e-01  5.5811e-02\n",
      "  8.7852e-02  1.2621e-01  3.5266e-01 -5.6351e-01 -3.5930e-01 -1.3401e-01\n",
      "  7.7801e-01 -2.5249e-01  2.0385e-01 -6.5584e-01 -4.9989e-02  8.7359e-01\n",
      "  4.5170e-01 -2.5920e-01  9.2309e-01  3.6927e-01  4.7212e-01 -4.0808e-01\n",
      " -6.7676e-01  2.8296e-01  1.1870e-01  2.5123e-01  6.3988e-02  3.8518e-01\n",
      " -4.5629e-01 -4.9095e-01 -2.9056e-01  1.1609e-01 -1.4937e-01 -3.6742e-01\n",
      "  1.9663e-01  4.5344e-01 -1.3246e-01  3.2582e-01 -3.9982e-01  1.8979e-01\n",
      "  3.0114e-01  7.4952e-01  7.7731e-02  1.2773e-01  5.0207e-02  3.8849e-02\n",
      "  1.5883e-01  1.9287e-01 -4.3273e-01 -1.1075e-01  2.8002e-03  6.2109e-01\n",
      " -6.8976e-01  1.1181e-01  4.9622e-01  8.5923e-02  2.5591e-01 -1.4410e-01\n",
      "  1.6128e-01  4.0757e-01  2.0046e-01 -1.0036e-01  6.1331e-01 -5.2357e-01]\n"
     ]
    }
   ],
   "source": [
    "print(nlp.vocab['minister'].vector)"
   ]
  },
  {
   "cell_type": "code",
   "execution_count": 23,
   "metadata": {},
   "outputs": [
    {
     "data": {
      "text/plain": [
       "0.80168545"
      ]
     },
     "execution_count": 23,
     "metadata": {},
     "output_type": "execute_result"
    }
   ],
   "source": [
    "dog = nlp.vocab[\"dog\"]\n",
    "cat = nlp.vocab[\"cat\"]\n",
    "apple = nlp.vocab[\"apple\"]\n",
    "orange = nlp.vocab[\"orange\"]\n",
    "dog.similarity(cat)\n"
   ]
  },
  {
   "cell_type": "code",
   "execution_count": 22,
   "metadata": {},
   "outputs": [
    {
     "data": {
      "text/plain": [
       "0.26339024"
      ]
     },
     "execution_count": 22,
     "metadata": {},
     "output_type": "execute_result"
    }
   ],
   "source": [
    "dog.similarity(apple)"
   ]
  },
  {
   "cell_type": "code",
   "execution_count": 25,
   "metadata": {},
   "outputs": [
    {
     "data": {
      "text/plain": [
       "0.2742508"
      ]
     },
     "execution_count": 25,
     "metadata": {},
     "output_type": "execute_result"
    }
   ],
   "source": [
    "dog.similarity(orange)"
   ]
  },
  {
   "cell_type": "code",
   "execution_count": 26,
   "metadata": {},
   "outputs": [
    {
     "data": {
      "text/plain": [
       "0.5618917"
      ]
     },
     "execution_count": 26,
     "metadata": {},
     "output_type": "execute_result"
    }
   ],
   "source": [
    "apple.similarity(orange)"
   ]
  },
  {
   "cell_type": "code",
   "execution_count": 27,
   "metadata": {},
   "outputs": [
    {
     "data": {
      "text/plain": [
       "0.8016855120658875"
      ]
     },
     "execution_count": 27,
     "metadata": {},
     "output_type": "execute_result"
    }
   ],
   "source": [
    "from scipy.spatial.distance import cosine\n",
    "1 - cosine(dog.vector, cat.vector)"
   ]
  },
  {
   "cell_type": "code",
   "execution_count": 28,
   "metadata": {},
   "outputs": [
    {
     "data": {
      "text/plain": [
       "0.2633902430534363"
      ]
     },
     "execution_count": 28,
     "metadata": {},
     "output_type": "execute_result"
    }
   ],
   "source": [
    "def vector_similarity(x, y):\n",
    "    return 1 - cosine(x, y)\n",
    "vector_similarity(dog.vector, apple.vector)"
   ]
  },
  {
   "cell_type": "code",
   "execution_count": 29,
   "metadata": {},
   "outputs": [],
   "source": [
    "def make_guess_word(words):\n",
    "    [first, second, third] = words\n",
    "    return nlp.vocab[first].vector - nlp.vocab[second].vector + nlp.vocab[third].vector"
   ]
  },
  {
   "cell_type": "code",
   "execution_count": 30,
   "metadata": {},
   "outputs": [],
   "source": [
    "def get_similar_word(words, scope=nlp.vocab):\n",
    "\n",
    "    guess_word = make_guess_word(words)\n",
    "\n",
    "    similarities = []\n",
    "\n",
    "    for word in scope:\n",
    "        if not word.has_vector:\n",
    "            continue\n",
    "\n",
    "        similarity = vector_similarity(guess_word, word.vector)\n",
    "        similarities.append((word, similarity))\n",
    "\n",
    "\n",
    "    similarities = sorted(similarities, key=lambda item: -item[1])\n",
    "    print([word[0].text for word in similarities[:10]])"
   ]
  },
  {
   "cell_type": "code",
   "execution_count": 31,
   "metadata": {},
   "outputs": [
    {
     "name": "stdout",
     "output_type": "stream",
     "text": [
      "['MAN', 'Man', 'mAn', 'MAn', 'MaN', 'man', 'mAN', 'WOMAN', 'womAn', 'WOman']\n"
     ]
    }
   ],
   "source": [
    "words = [\"king\", \"queen\", \"woman\"]\n",
    "get_similar_word(words)"
   ]
  },
  {
   "cell_type": "code",
   "execution_count": 32,
   "metadata": {},
   "outputs": [],
   "source": [
    "import numpy as np\n",
    "embedding = np.array([])\n",
    "word_list = []\n",
    "\n",
    "text = \"The sequel, Yes, Prime Minister, ran from 1986 to 1988. In total there were 38 episodes, of which all but one lasted half an hour. Almost all episodes ended with a variation of the title of the series spoken as the answer to a question posed by the same character, Jim Hacker. Several episodes were adapted for BBC Radio, and a stage play was produced in 2010, the latter leading to a new television series on UKTV Gold in 2013.\"\n",
    "doc = nlp(text)\n",
    "for token in doc:\n",
    "    if not(token.is_punct) and not(token.text in word_list):\n",
    "        word_list.append(token.text)"
   ]
  },
  {
   "cell_type": "code",
   "execution_count": 33,
   "metadata": {},
   "outputs": [],
   "source": [
    "for word in word_list:\n",
    "    embedding = np.append(embedding, nlp.vocab[word].vector)"
   ]
  },
  {
   "cell_type": "code",
   "execution_count": 36,
   "metadata": {},
   "outputs": [
    {
     "data": {
      "text/plain": [
       "array([ 3.5486e-01,  1.5902e-01,  7.7483e-01,  6.4811e-01, -4.5833e-01,\n",
       "       -4.3110e-01,  3.0136e-01, -1.1618e-01, -5.0672e-02,  1.3120e+00,\n",
       "       -6.3471e-01,  2.8206e-01, -1.6670e-01,  9.1945e-02, -6.7069e-01,\n",
       "        2.9996e-01, -6.5238e-01,  1.0677e+00,  1.1421e-01,  3.7817e-01,\n",
       "        9.6034e-02,  2.8031e-01,  3.0202e-01,  1.3030e-01, -3.3470e-01,\n",
       "        5.8916e-01, -1.0295e-01,  5.8900e-02,  4.9861e-01,  6.6159e-01,\n",
       "       -2.2529e-01, -2.7729e-01, -1.5877e-01,  5.4766e-01,  1.5983e-01,\n",
       "        1.4282e-01,  6.5618e-02,  3.1047e-02, -1.8355e-01, -8.3755e-02,\n",
       "        4.3712e-02, -6.2669e-01,  3.3341e-01,  5.6958e-01,  3.3472e-01,\n",
       "       -3.2537e-01, -1.8087e-01,  7.6554e-01, -2.5327e-01,  1.3422e-01,\n",
       "        3.6226e-02, -3.1452e-01, -7.9255e-01, -2.8928e-01,  8.9667e-02,\n",
       "        2.9977e-01,  1.1919e-01,  1.6415e-01,  3.9021e-02,  5.0891e-02,\n",
       "        1.7840e-01, -3.8131e-02, -1.7671e-01,  3.0582e-01, -5.4618e-01,\n",
       "       -2.1944e-01, -2.9559e-01,  1.6916e-01,  2.9032e-01,  4.5894e-03,\n",
       "        5.5771e-01, -6.2007e-01,  4.6741e-01, -3.5364e-01, -4.4215e-01,\n",
       "        3.7215e-01,  5.4665e-01,  2.2668e-01, -4.5390e-01,  7.2127e-01,\n",
       "        2.2233e-01,  5.0527e-01,  3.5484e-02,  1.7034e-01,  6.5883e-03,\n",
       "       -2.0482e-01, -3.2857e-01, -6.1077e-01,  2.6411e-01,  1.1892e-01,\n",
       "        4.6070e-01,  1.6238e-01, -2.1627e-01, -1.7162e-01,  3.1294e-01,\n",
       "       -1.5022e-03,  3.1066e-01,  2.2549e-01,  7.5452e-01,  1.7166e-01,\n",
       "        1.0212e-01,  2.3008e-01, -4.0675e-01,  2.2004e-02, -3.1243e-01,\n",
       "        2.2867e+00, -2.6353e-01,  6.7896e-01,  3.5406e-01,  9.1632e-02,\n",
       "       -2.8137e-01, -7.3580e-01,  1.9955e-01,  3.3557e-01,  2.2934e-02,\n",
       "        3.2475e-02,  3.7002e-01,  7.5010e-02, -1.8020e-01, -3.3896e-01,\n",
       "       -5.0830e-01, -3.1769e-02, -8.5409e-01, -2.6123e-01,  1.6969e-01,\n",
       "        2.4252e-01,  6.0067e-01,  1.5931e-01, -6.1962e-02,  2.6384e-01,\n",
       "       -6.2950e-01, -6.8966e-01, -3.1864e-02,  1.3854e-01, -8.8028e-02,\n",
       "       -2.6823e-02, -1.6488e-01,  2.9018e-01,  4.0707e-02,  1.9067e-01,\n",
       "       -4.5711e-02,  2.4421e-01, -1.1562e-01,  1.0475e-02, -2.9288e-01,\n",
       "        2.4211e-01, -1.3527e-01,  2.7743e-01,  2.5719e-01,  1.0044e-01,\n",
       "       -2.8339e-01, -3.4831e-01, -1.0665e-01,  4.8685e-01,  2.1358e-01,\n",
       "       -2.2883e-01,  9.0783e-02,  1.2607e-02, -4.1414e-01,  3.8456e-01,\n",
       "        2.8832e-01, -1.0143e-01, -3.2264e-01, -6.1365e-01, -1.5305e-01,\n",
       "        4.8000e-01,  1.9147e-01, -4.1209e-01,  2.4962e-01, -1.2776e-01,\n",
       "        1.6429e-01,  1.4272e-01, -4.5891e-02, -3.2898e-01, -9.4015e-02,\n",
       "        7.9850e-02,  3.5216e-02,  2.2029e-02,  4.2516e-01,  7.5250e-01,\n",
       "       -1.3701e-01,  6.5583e-01,  2.0908e-01,  3.7096e-02, -3.6735e-01,\n",
       "        6.8810e-01,  7.4586e-02,  3.4869e-01,  7.5582e-02, -2.5495e-01,\n",
       "        1.4287e-01, -6.6389e-01,  5.5418e-02, -3.1979e-01,  9.0542e-02,\n",
       "        6.5568e-01, -2.2242e-01,  8.4981e-01,  3.1191e-02,  3.9131e-01,\n",
       "        1.4622e-01,  3.4620e-01,  1.1269e-01, -5.0679e-01,  3.7064e-01,\n",
       "        5.0948e-02, -1.8102e-01,  1.8227e-01, -4.0409e-01,  3.6241e-01,\n",
       "       -1.4998e-01, -5.1069e-01,  4.0218e-01, -2.8488e-01,  1.0367e-01,\n",
       "        5.3776e-01, -1.0054e-01,  2.0225e-01, -2.4885e-01,  1.3871e-02,\n",
       "       -1.8488e-01, -4.8250e-02, -6.9039e-01, -2.0919e-01,  2.4601e-01,\n",
       "        1.6861e-01,  4.5555e-01,  3.5674e-01, -1.5825e-02, -4.8774e-01,\n",
       "        4.5930e-02,  1.2491e-01, -2.2637e-01,  4.0357e-01, -7.2072e-01,\n",
       "       -4.0017e-01, -1.1013e+00, -4.1387e-01, -1.1900e-01, -1.2629e-01,\n",
       "        1.3819e-01, -4.2682e-01, -5.0550e-01, -4.9179e-01,  7.3074e-01,\n",
       "        4.4810e-01,  1.4003e-01, -1.5240e-01, -6.9497e-02,  3.4882e-01,\n",
       "       -8.5261e-01, -1.5479e-01, -1.7881e-01,  1.1738e-02,  9.7491e-02,\n",
       "        3.4684e-01, -4.2370e-01,  4.9042e-01, -7.8832e-01, -1.1713e-01,\n",
       "        2.4378e-02,  3.9802e-01, -4.6839e-01,  3.7969e-01,  1.0897e-01,\n",
       "       -2.3384e-01, -1.9218e-01,  2.1653e-01, -9.9283e-02, -6.1531e-01,\n",
       "       -2.7716e-01,  2.4173e-01, -2.2748e-01, -4.9342e-01,  6.1881e-02,\n",
       "        2.8079e-01, -2.1912e-02,  3.6348e-02, -3.8283e-01,  6.7394e-01,\n",
       "        7.5196e-02, -2.1312e-01, -5.7643e-01,  3.0257e-01,  5.0987e-01,\n",
       "       -3.2004e-01,  6.8335e-02, -5.1221e-01,  8.5720e-02,  4.5912e-01,\n",
       "       -4.3626e-02,  2.5236e-02, -4.9634e-01, -3.5754e-01, -1.8423e-01,\n",
       "       -4.0911e-01, -5.0385e-01, -1.8778e-01,  2.0765e-01,  7.8201e-01],\n",
       "      dtype=float32)"
      ]
     },
     "execution_count": 36,
     "metadata": {},
     "output_type": "execute_result"
    }
   ],
   "source": [
    "nlp.vocab[word].vector\n",
    "#embedding.shape"
   ]
  },
  {
   "cell_type": "code",
   "execution_count": 37,
   "metadata": {},
   "outputs": [],
   "source": [
    "embedding = embedding.reshape(len(word_list), -1)\n",
    "embedding.shape"
   ]
  },
  {
   "cell_type": "code",
   "execution_count": 40,
   "metadata": {},
   "outputs": [],
   "source": [
    "from sklearn.manifold import TSNE\n",
    "tsne = TSNE()\n",
    "low_dim_embedding = tsne.fit_transform(embedding)"
   ]
  },
  {
   "cell_type": "code",
   "execution_count": 43,
   "metadata": {},
   "outputs": [
    {
     "name": "stdout",
     "output_type": "stream",
     "text": [
      "Populating the interactive namespace from numpy and matplotlib\n"
     ]
    },
    {
     "name": "stderr",
     "output_type": "stream",
     "text": [
      "/usr/share/anaconda/3/envs/LDA/lib/python3.7/site-packages/IPython/core/magics/pylab.py:160: UserWarning: pylab import has clobbered these variables: ['text']\n",
      "`%matplotlib` prevents importing * from pylab and numpy\n",
      "  \"\\n`%matplotlib` prevents importing * from pylab and numpy\"\n"
     ]
    }
   ],
   "source": [
    "import matplotlib.pyplot as plt\n",
    "%pylab inline"
   ]
  },
  {
   "cell_type": "code",
   "execution_count": 45,
   "metadata": {},
   "outputs": [
    {
     "data": {
      "image/png": "[encoded data removed]",
      "text/plain": [
       "<Figure size 1296x1296 with 1 Axes>"
      ]
     },
     "metadata": {
      "needs_background": "light"
     },
     "output_type": "display_data"
    }
   ],
   "source": [
    "def plot_with_labels(low_dim_embs, labels, filename='tsne.pdf'):\n",
    "    assert low_dim_embs.shape[0] >= len(labels), \"More labels than embeddings\"\n",
    "    plt.figure(figsize=(18, 18))  # in inches\n",
    "    for i, label in enumerate(labels):\n",
    "        x, y = low_dim_embs[i, :]\n",
    "        plt.scatter(x, y)\n",
    "        plt.annotate(label,\n",
    "                 xy=(x, y),\n",
    "                 xytext=(5, 2),\n",
    "                 textcoords='offset points',\n",
    "                 ha='right',\n",
    "                 va='bottom')\n",
    "    plt.savefig(filename)\n",
    "plot_with_labels(low_dim_embedding, word_list)"
   ]
  },
  {
   "cell_type": "code",
   "execution_count": 46,
   "metadata": {},
   "outputs": [
    {
     "data": {
      "text/plain": [
       "array([[ 9.72075844e+00,  6.96842909e+00],\n",
       "       [-2.76804447e+01, -5.51014519e+01],\n",
       "       [-3.15935287e+01, -7.74859285e+00],\n",
       "       [-5.72907219e+01,  3.43643036e+01],\n",
       "       [-5.85877151e+01,  4.67232666e+01],\n",
       "       [-6.42937946e+00,  4.30058327e+01],\n",
       "       [ 3.44676971e+01, -1.38020620e+01],\n",
       "       [ 3.37184286e+00,  6.75656815e+01],\n",
       "       [ 2.53860607e+01, -6.17995262e+00],\n",
       "       [ 1.13166122e+01,  6.94165649e+01],\n",
       "       [ 3.45066185e+01,  1.82768402e+01],\n",
       "       [ 4.67843132e+01,  3.72898827e+01],\n",
       "       [-1.26272173e+01,  4.09958094e-01],\n",
       "       [-2.12927074e+01,  4.50707130e+01],\n",
       "       [ 5.00788803e+01,  1.38116369e+01],\n",
       "       [-9.15359211e+00, -7.38173065e+01],\n",
       "       [ 2.56189976e+01,  6.76064825e+00],\n",
       "       [-3.74514222e+00, -2.09542027e+01],\n",
       "       [ 5.53874254e+00, -4.86111975e+00],\n",
       "       [-1.85702744e+01, -7.38356638e+00],\n",
       "       [-2.43546462e+00,  2.48514652e+00],\n",
       "       [-5.38482933e+01,  1.50056152e+01],\n",
       "       [-1.36265755e+01,  1.35971966e+01],\n",
       "       [ 7.57522440e+00,  1.87208252e+01],\n",
       "       [-4.76522484e+01, -1.24481606e+00],\n",
       "       [-2.22857475e+01,  5.35292387e+00],\n",
       "       [-1.52140875e+01,  3.02000160e+01],\n",
       "       [ 2.04209881e+01, -1.93042660e+01],\n",
       "       [-1.65615511e+00,  1.34471159e+01],\n",
       "       [ 3.90405693e+01, -4.86020393e+01],\n",
       "       [ 1.59953222e+01,  1.64428627e+00],\n",
       "       [-2.56316299e+01, -3.90387383e+01],\n",
       "       [-1.32801971e+01, -6.30979843e+01],\n",
       "       [-2.73070450e+01, -2.20789070e+01],\n",
       "       [ 5.46717548e+00, -1.69080639e+01],\n",
       "       [-3.55833931e+01,  9.29565334e+00],\n",
       "       [-3.73963394e+01,  1.92938900e+01],\n",
       "       [-3.54869537e+01,  3.65074043e+01],\n",
       "       [ 5.17013893e+01, -1.04957533e+01],\n",
       "       [-5.51532650e+00, -8.30208302e+00],\n",
       "       [-1.91421747e+00, -4.82184410e+01],\n",
       "       [-4.58853455e+01, -2.04873810e+01],\n",
       "       [ 2.40708618e+01,  4.92198486e+01],\n",
       "       [ 1.33004580e+01,  3.21459312e+01],\n",
       "       [ 5.45295639e+01, -3.36729889e+01],\n",
       "       [ 3.64596176e+01,  1.45724440e+00],\n",
       "       [-5.22918472e+01, -2.95076828e+01],\n",
       "       [-7.10610809e+01, -9.14722347e+00],\n",
       "       [ 1.48101454e+01, -1.06384830e+01],\n",
       "       [ 2.18490105e+01, -3.61073570e+01],\n",
       "       [ 1.73952045e+01, -5.47375298e+01],\n",
       "       [-2.27058792e+01,  2.24333153e+01],\n",
       "       [ 3.74721146e+01, -2.85942631e+01],\n",
       "       [ 3.02828045e+01,  2.61167297e+01],\n",
       "       [ 6.99428024e+01,  7.86294746e+00],\n",
       "       [-1.38809853e+01, -1.78829613e+01],\n",
       "       [ 8.16663456e+00, -3.09426765e+01],\n",
       "       [ 1.92642803e+01,  1.69996319e+01],\n",
       "       [-7.38762436e+01, -1.81242065e+01],\n",
       "       [-5.69387227e-02,  2.90679092e+01],\n",
       "       [-5.45423813e+01, -4.19742737e+01],\n",
       "       [-9.84999275e+00, -3.41259537e+01],\n",
       "       [ 7.20549393e+01,  1.64031353e+01]], dtype=float32)"
      ]
     },
     "execution_count": 46,
     "metadata": {},
     "output_type": "execute_result"
    }
   ],
   "source": [
    "low_dim_embedding"
   ]
  }
 ],
 "metadata": {
  "kernelspec": {
   "display_name": "Python 3",
   "language": "python",
   "name": "python3"
  },
  "language_info": {
   "codemirror_mode": {
    "name": "ipython",
    "version": 3
   },
   "file_extension": ".py",
   "mimetype": "text/x-python",
   "name": "python",
   "nbconvert_exporter": "python",
   "pygments_lexer": "ipython3",
   "version": "3.7.4"
  }
 },
 "nbformat": 4,
 "nbformat_minor": 2
}
